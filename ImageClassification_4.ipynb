{
  "nbformat": 4,
  "nbformat_minor": 0,
  "metadata": {
    "colab": {
      "provenance": []
    },
    "kernelspec": {
      "name": "python3",
      "display_name": "Python 3"
    },
    "language_info": {
      "name": "python"
    }
  },
  "cells": [
    {
      "cell_type": "code",
      "execution_count": 1,
      "metadata": {
        "colab": {
          "base_uri": "https://localhost:8080/"
        },
        "id": "VsHZYhXKrmRA",
        "outputId": "fc71b4b4-49a8-4c1c-d1be-94f521ee5192"
      },
      "outputs": [
        {
          "output_type": "stream",
          "name": "stdout",
          "text": [
            "Downloading data from https://storage.googleapis.com/tensorflow/tf-keras-datasets/mnist.npz\n",
            "11490434/11490434 [==============================] - 1s 0us/step\n",
            "(28, 28)\n",
            "784\n",
            "Epoch 1/10\n",
            "235/235 [==============================] - 16s 62ms/step - loss: 5.7661 - accuracy: 0.8799 - val_loss: 1.1818 - val_accuracy: 0.8916\n",
            "Epoch 2/10\n",
            "235/235 [==============================] - 9s 39ms/step - loss: 0.4244 - accuracy: 0.9452 - val_loss: 0.3245 - val_accuracy: 0.9463\n",
            "Epoch 3/10\n",
            "235/235 [==============================] - 7s 32ms/step - loss: 0.2434 - accuracy: 0.9583 - val_loss: 0.2527 - val_accuracy: 0.9608\n",
            "Epoch 4/10\n",
            "235/235 [==============================] - 6s 26ms/step - loss: 0.1971 - accuracy: 0.9660 - val_loss: 0.3350 - val_accuracy: 0.9580\n",
            "Epoch 5/10\n",
            "235/235 [==============================] - 7s 32ms/step - loss: 0.1804 - accuracy: 0.9722 - val_loss: 0.3226 - val_accuracy: 0.9638\n",
            "Epoch 6/10\n",
            "235/235 [==============================] - 6s 27ms/step - loss: 0.1587 - accuracy: 0.9755 - val_loss: 0.2844 - val_accuracy: 0.9645\n",
            "Epoch 7/10\n",
            "235/235 [==============================] - 7s 31ms/step - loss: 0.1424 - accuracy: 0.9787 - val_loss: 0.3277 - val_accuracy: 0.9639\n",
            "Epoch 8/10\n",
            "235/235 [==============================] - 6s 27ms/step - loss: 0.1267 - accuracy: 0.9817 - val_loss: 0.3217 - val_accuracy: 0.9691\n",
            "Epoch 9/10\n",
            "235/235 [==============================] - 7s 32ms/step - loss: 0.1166 - accuracy: 0.9824 - val_loss: 0.4951 - val_accuracy: 0.9619\n",
            "Epoch 10/10\n",
            "235/235 [==============================] - 6s 25ms/step - loss: 0.1217 - accuracy: 0.9838 - val_loss: 0.3277 - val_accuracy: 0.9720\n"
          ]
        }
      ],
      "source": [
        "from keras import Sequential\n",
        "from keras.datasets import mnist\n",
        "import numpy as np\n",
        "from keras.layers import Dense\n",
        "from keras.utils import to_categorical\n",
        "\n",
        "(train_images,train_labels),(test_images, test_labels) = mnist.load_data()\n",
        "\n",
        "print(train_images.shape[1:])\n",
        "#process the data\n",
        "#1. convert each image of shape 28*28 to 784 dimensional which will be fed to the network as a single feature\n",
        "dimData = np.prod(train_images.shape[1:])\n",
        "print(dimData)\n",
        "train_data = train_images.reshape(train_images.shape[0],dimData)\n",
        "test_data = test_images.reshape(test_images.shape[0],dimData)\n",
        "\n",
        "#convert data to float and scale values between 0 and 1\n",
        "train_data = train_data.astype('float')\n",
        "test_data = test_data.astype('float')\n",
        "\n",
        "#Commenting the scale data part\n",
        "#train_data /=255.0\n",
        "#test_data /=255.0\n",
        "\n",
        "#change the labels frominteger to one-hot encoding. to_categorical is doing the same thing as LabelEncoder()\n",
        "train_labels_one_hot = to_categorical(train_labels)\n",
        "test_labels_one_hot = to_categorical(test_labels)\n",
        "\n",
        "#creating network\n",
        "model = Sequential()\n",
        "model.add(Dense(512, activation='relu', input_shape=(dimData,)))\n",
        "model.add(Dense(512, activation='relu'))\n",
        "model.add(Dense(10, activation='softmax'))\n",
        "\n",
        "#Feeding the unscaled data to the network\n",
        "model.compile(optimizer='rmsprop', loss='categorical_crossentropy', metrics=['accuracy'])\n",
        "history = model.fit(train_data, train_labels_one_hot, batch_size=256, epochs=10, verbose=1,\n",
        "                   validation_data=(test_data, test_labels_one_hot))"
      ]
    }
  ]
}