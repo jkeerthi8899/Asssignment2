{
  "nbformat": 4,
  "nbformat_minor": 0,
  "metadata": {
    "colab": {
      "provenance": []
    },
    "kernelspec": {
      "name": "python3",
      "display_name": "Python 3"
    },
    "language_info": {
      "name": "python"
    }
  },
  "cells": [
    {
      "cell_type": "code",
      "execution_count": 1,
      "metadata": {
        "colab": {
          "base_uri": "https://localhost:8080/"
        },
        "id": "VBVRH6WxW_-T",
        "outputId": "35f822eb-c114-4b51-afe1-98302d99c0cd"
      },
      "outputs": [
        {
          "output_type": "stream",
          "name": "stdout",
          "text": [
            "Downloading data from https://storage.googleapis.com/tensorflow/tf-keras-datasets/mnist.npz\n",
            "11490434/11490434 [==============================] - 0s 0us/step\n",
            "(28, 28)\n",
            "784\n",
            "Epoch 1/10\n",
            "235/235 [==============================] - 24s 97ms/step - loss: 0.2857 - accuracy: 0.9129 - val_loss: 0.1970 - val_accuracy: 0.9359\n",
            "Epoch 2/10\n",
            "235/235 [==============================] - 7s 32ms/step - loss: 0.0997 - accuracy: 0.9696 - val_loss: 0.1650 - val_accuracy: 0.9487\n",
            "Epoch 3/10\n",
            "235/235 [==============================] - 8s 35ms/step - loss: 0.0638 - accuracy: 0.9805 - val_loss: 0.0776 - val_accuracy: 0.9736\n",
            "Epoch 4/10\n",
            "235/235 [==============================] - 6s 27ms/step - loss: 0.0438 - accuracy: 0.9863 - val_loss: 0.0707 - val_accuracy: 0.9777\n",
            "Epoch 5/10\n",
            "235/235 [==============================] - 8s 33ms/step - loss: 0.0321 - accuracy: 0.9894 - val_loss: 0.0603 - val_accuracy: 0.9824\n",
            "Epoch 6/10\n",
            "235/235 [==============================] - 7s 28ms/step - loss: 0.0213 - accuracy: 0.9933 - val_loss: 0.1013 - val_accuracy: 0.9696\n",
            "Epoch 7/10\n",
            "235/235 [==============================] - 7s 29ms/step - loss: 0.0162 - accuracy: 0.9947 - val_loss: 0.0631 - val_accuracy: 0.9821\n",
            "Epoch 8/10\n",
            "235/235 [==============================] - 7s 29ms/step - loss: 0.0123 - accuracy: 0.9959 - val_loss: 0.0764 - val_accuracy: 0.9791\n",
            "Epoch 9/10\n",
            "235/235 [==============================] - 7s 30ms/step - loss: 0.0100 - accuracy: 0.9968 - val_loss: 0.0842 - val_accuracy: 0.9799\n",
            "Epoch 10/10\n",
            "235/235 [==============================] - 8s 32ms/step - loss: 0.0073 - accuracy: 0.9977 - val_loss: 0.0653 - val_accuracy: 0.9837\n"
          ]
        }
      ],
      "source": [
        "from keras import Sequential\n",
        "from keras.datasets import mnist\n",
        "import numpy as np\n",
        "from keras.layers import Dense\n",
        "from keras.utils import to_categorical\n",
        "\n",
        "(train_images,train_labels),(test_images, test_labels) = mnist.load_data()\n",
        "\n",
        "print(train_images.shape[1:])\n",
        "#process the data\n",
        "#1. convert each image of shape 28*28 to 784 dimensional which will be fed to the network as a single feature\n",
        "dimData = np.prod(train_images.shape[1:])\n",
        "print(dimData)\n",
        "train_data = train_images.reshape(train_images.shape[0],dimData)\n",
        "test_data = test_images.reshape(test_images.shape[0],dimData)\n",
        "\n",
        "#convert data to float and scale values between 0 and 1\n",
        "train_data = train_data.astype('float')\n",
        "test_data = test_data.astype('float')\n",
        "#scale data\n",
        "train_data /=255.0\n",
        "test_data /=255.0\n",
        "#change the labels frominteger to one-hot encoding. to_categorical is doing the same thing as LabelEncoder()\n",
        "train_labels_one_hot = to_categorical(train_labels)\n",
        "test_labels_one_hot = to_categorical(test_labels)\n",
        "\n",
        "#creating network\n",
        "model = Sequential()\n",
        "model.add(Dense(512, activation='relu', input_shape=(dimData,)))\n",
        "model.add(Dense(512, activation='relu'))\n",
        "model.add(Dense(10, activation='softmax'))\n",
        "\n",
        "model.compile(optimizer='rmsprop', loss='categorical_crossentropy', metrics=['accuracy'])\n",
        "history = model.fit(train_data, train_labels_one_hot, batch_size=256, epochs=10, verbose=1,\n",
        "                   validation_data=(test_data, test_labels_one_hot))"
      ]
    },
    {
      "cell_type": "code",
      "source": [
        "import matplotlib.pyplot as plt\n",
        "# Plotting training and validation accuracy over epochs\n",
        "plt.plot(history.history['accuracy'])\n",
        "plt.plot(history.history['val_accuracy'])\n",
        "plt.title('Model acc')\n",
        "plt.ylabel('Accuracy')\n",
        "plt.xlabel('Epoch')\n",
        "plt.legend(['Train', 'Validation'], loc='lower right')\n",
        "plt.show()"
      ],
      "metadata": {
        "colab": {
          "base_uri": "https://localhost:8080/",
          "height": 295
        },
        "id": "bkywEfILYShU",
        "outputId": "0a7a784f-4271-473b-de48-bab592a928db"
      },
      "execution_count": 3,
      "outputs": [
        {
          "output_type": "display_data",
          "data": {
            "text/plain": [
              "<Figure size 432x288 with 1 Axes>"
            ],
            "image/png": "[encoded data removed]"
          },
          "metadata": {
            "needs_background": "light"
          }
        }
      ]
    },
    {
      "cell_type": "code",
      "source": [
        "# Plotting training and validation loss over epochs\n",
        "plt.plot(history.history['loss'])\n",
        "plt.plot(history.history['val_loss'])\n",
        "plt.title('loss model')\n",
        "plt.ylabel('Loss')\n",
        "plt.xlabel('Epoch')\n",
        "plt.legend(['Train', 'Validation'], loc='upper right')\n",
        "plt.show()"
      ],
      "metadata": {
        "colab": {
          "base_uri": "https://localhost:8080/",
          "height": 295
        },
        "id": "GFpJ2Cy9cuJ0",
        "outputId": "51d3ab3a-c10b-4b91-87f6-d85aa8a8fecd"
      },
      "execution_count": 6,
      "outputs": [
        {
          "output_type": "display_data",
          "data": {
            "text/plain": [
              "<Figure size 432x288 with 1 Axes>"
            ],
            "image/png": "[encoded data removed]"
          },
          "metadata": {
            "needs_background": "light"
          }
        }
      ]
    },
    {
      "cell_type": "code",
      "source": [
        "#2 Plotting image"
      ],
      "metadata": {
        "id": "ORpzzNLBgGev"
      },
      "execution_count": null,
      "outputs": []
    },
    {
      "cell_type": "code",
      "source": [
        "# Selecting a random image from the test data\n",
        "idx = np.random.randint(0, test_images.shape[0])\n",
        "img = test_images[idx]\n",
        "\n",
        "# Plot the selected image\n",
        "plt.imshow(img, cmap='gray')\n",
        "plt.show()\n",
        "\n",
        "ipt_img = img.reshape(1, 784).astype('float32') / 255.0\n",
        "\n",
        "pred = model.predict(ipt_img)\n",
        "print('predicted image is:', np.argmax(pred))"
      ],
      "metadata": {
        "colab": {
          "base_uri": "https://localhost:8080/",
          "height": 300
        },
        "id": "PQYGZdhBdZt5",
        "outputId": "fd431be3-9176-4d81-868c-2268780f9cee"
      },
      "execution_count": 10,
      "outputs": [
        {
          "output_type": "display_data",
          "data": {
            "text/plain": [
              "<Figure size 432x288 with 1 Axes>"
            ],
            "image/png": "[encoded data removed]"
          },
          "metadata": {
            "needs_background": "light"
          }
        },
        {
          "output_type": "stream",
          "name": "stdout",
          "text": [
            "1/1 [==============================] - 0s 70ms/step\n",
            "predicted image is: 7\n"
          ]
        }
      ]
    },
    {
      "cell_type": "code",
      "source": [
        "#creating network\n",
        "model_l = Sequential()\n",
        "model_l.add(Dense(512, activation='tanh', input_shape=(dimData,)))\n",
        "model_l.add(Dense(512, activation='tanh'))\n",
        "model_l.add(Dense(256, activation='tanh'))\n",
        "model_l.add(Dense(128, activation='tanh'))\n",
        "model_l.add(Dense(10, activation='softmax'))\n",
        "\n",
        "model_l.compile(optimizer='rmsprop', loss='categorical_crossentropy', metrics=['accuracy'])\n",
        "history = model_l.fit(train_data, train_labels_one_hot, batch_size=256, epochs=10, verbose=1,\n",
        "                   validation_data=(test_data, test_labels_one_hot))"
      ],
      "metadata": {
        "colab": {
          "base_uri": "https://localhost:8080/"
        },
        "id": "TMTiwDWnoqjz",
        "outputId": "82be524d-b1bd-40f7-da55-beac693ec488"
      },
      "execution_count": 8,
      "outputs": [
        {
          "output_type": "stream",
          "name": "stdout",
          "text": [
            "Epoch 1/10\n",
            "235/235 [==============================] - 10s 41ms/step - loss: 0.3457 - accuracy: 0.8937 - val_loss: 0.2481 - val_accuracy: 0.9192\n",
            "Epoch 2/10\n",
            "235/235 [==============================] - 9s 40ms/step - loss: 0.1489 - accuracy: 0.9541 - val_loss: 0.1586 - val_accuracy: 0.9514\n",
            "Epoch 3/10\n",
            "235/235 [==============================] - 8s 33ms/step - loss: 0.0977 - accuracy: 0.9699 - val_loss: 0.1617 - val_accuracy: 0.9490\n",
            "Epoch 4/10\n",
            "235/235 [==============================] - 9s 40ms/step - loss: 0.0716 - accuracy: 0.9778 - val_loss: 0.0964 - val_accuracy: 0.9707\n",
            "Epoch 5/10\n",
            "235/235 [==============================] - 9s 39ms/step - loss: 0.0523 - accuracy: 0.9833 - val_loss: 0.0938 - val_accuracy: 0.9710\n",
            "Epoch 6/10\n",
            "235/235 [==============================] - 8s 34ms/step - loss: 0.0391 - accuracy: 0.9876 - val_loss: 0.0923 - val_accuracy: 0.9713\n",
            "Epoch 7/10\n",
            "235/235 [==============================] - 9s 39ms/step - loss: 0.0315 - accuracy: 0.9897 - val_loss: 0.0654 - val_accuracy: 0.9790\n",
            "Epoch 8/10\n",
            "235/235 [==============================] - 9s 38ms/step - loss: 0.0215 - accuracy: 0.9933 - val_loss: 0.0956 - val_accuracy: 0.9725\n",
            "Epoch 9/10\n",
            "235/235 [==============================] - 8s 34ms/step - loss: 0.0167 - accuracy: 0.9947 - val_loss: 0.1558 - val_accuracy: 0.9641\n",
            "Epoch 10/10\n",
            "235/235 [==============================] - 10s 42ms/step - loss: 0.0141 - accuracy: 0.9957 - val_loss: 0.0803 - val_accuracy: 0.9788\n"
          ]
        }
      ]
    }
  ]
}